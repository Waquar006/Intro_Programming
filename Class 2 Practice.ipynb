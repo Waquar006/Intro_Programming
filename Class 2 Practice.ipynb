{
 "cells": [
  {
   "cell_type": "code",
   "execution_count": 1,
   "id": "0c5d0272",
   "metadata": {},
   "outputs": [
    {
     "name": "stdout",
     "output_type": "stream",
     "text": [
      "Name: Waquar\n",
      "Favourite Colour: Blue\n",
      "Favourite Food: Chicken\n"
     ]
    }
   ],
   "source": [
    "# Collect basic user inputs\n",
    "user_name = input(\"What is your name? \")\n",
    "fav_colour = input(\"What is your favourite colour? \")\n",
    "fav_food = input(\"What is your favourite food? \")\n",
    "\n",
    "# Display the captured inputs\n",
    "print(\"Name:\", user_name)\n",
    "print(\"Favourite Colour:\", fav_colour)\n",
    "print(\"Favourite Food:\", fav_food)"
   ]
  },
  {
   "cell_type": "code",
   "execution_count": 2,
   "id": "e2619743",
   "metadata": {},
   "outputs": [
    {
     "name": "stdout",
     "output_type": "stream",
     "text": [
      "Hello, Waquar! Your favourite colour is Blue and you love Chicken.\n"
     ]
    }
   ],
   "source": [
    "print(\"Hello, \" + user_name + \"! Your favourite colour is \" + fav_colour +\n",
    "      \" and you love \" + fav_food + \".\")"
   ]
  },
  {
   "cell_type": "code",
   "execution_count": 3,
   "id": "e55970a1",
   "metadata": {},
   "outputs": [
    {
     "name": "stdout",
     "output_type": "stream",
     "text": [
      "Hello, Waquar! Your favourite colour is Blue, you love Chicken, and your favourite hobby is Driving.\n"
     ]
    }
   ],
   "source": [
    "# TODO: Ask the user for their favourite hobby and store it in a variable.\n",
    "# For example:\n",
    "fav_hobby = input(\"What is your favourite hobby? \")\n",
    "print(\"Hello, \" + user_name + \"! Your favourite colour is \" + fav_colour +\n",
    "      \", you love \" + fav_food + \", and your favourite hobby is \" + fav_hobby + \".\")"
   ]
  },
  {
   "cell_type": "code",
   "execution_count": 1,
   "id": "a0a6d26c",
   "metadata": {},
   "outputs": [
    {
     "name": "stdout",
     "output_type": "stream",
     "text": [
      "Interesting choice! I wonder why a Tiger resonates with you.\n"
     ]
    }
   ],
   "source": [
    "spirit_animal = input(\"What's your spirit animal? \")\n",
    "print(\"Interesting choice! I wonder why a\", spirit_animal, \"resonates with you.\")"
   ]
  },
  {
   "cell_type": "code",
   "execution_count": 5,
   "id": "01694394",
   "metadata": {},
   "outputs": [
    {
     "name": "stdout",
     "output_type": "stream",
     "text": [
      "Your name in all caps is WAQUAR!\n"
     ]
    }
   ],
   "source": [
    "print(\"Your name in all caps is\", user_name.upper() + \"!\")"
   ]
  },
  {
   "cell_type": "code",
   "execution_count": 6,
   "id": "9554b761",
   "metadata": {},
   "outputs": [
    {
     "name": "stdout",
     "output_type": "stream",
     "text": [
      "Hello, Waquar!\n",
      "Your favourite colour is Bluw and you love Chicken.\n"
     ]
    }
   ],
   "source": [
    "# TODO: Modify the greeting message to print on two separate lines.\n",
    "# For example, consider:\n",
    "print(\"Hello, \" + user_name + \"!\\nYour favourite colour is \" + fav_colour +\n",
    "\" and you love \" + fav_food + \".\")"
   ]
  },
  {
   "cell_type": "code",
   "execution_count": 7,
   "id": "e5e3e867",
   "metadata": {},
   "outputs": [
    {
     "name": "stdout",
     "output_type": "stream",
     "text": [
      "You are 27 years old!\n"
     ]
    }
   ],
   "source": [
    "# TODO: Ask the user for their birth year and calculate their age.\n",
    "# For example:\n",
    "birth_year = int(input(\"What year were you born? \"))\n",
    "import datetime\n",
    "current_year = datetime.datetime.now().year\n",
    "age = current_year - birth_year\n",
    "print(\"You are\", age, \"years old!\")"
   ]
  },
  {
   "cell_type": "code",
   "execution_count": 1,
   "id": "30b95bb4",
   "metadata": {},
   "outputs": [
    {
     "name": "stdout",
     "output_type": "stream",
     "text": [
      "Requirement already satisfied: ipywidgets in c:\\users\\waqua\\appdata\\local\\packages\\pythonsoftwarefoundation.python.3.11_qbz5n2kfra8p0\\localcache\\local-packages\\python311\\site-packages (8.1.7)\n",
      "Requirement already satisfied: comm>=0.1.3 in c:\\users\\waqua\\appdata\\local\\packages\\pythonsoftwarefoundation.python.3.11_qbz5n2kfra8p0\\localcache\\local-packages\\python311\\site-packages (from ipywidgets) (0.2.3)\n",
      "Requirement already satisfied: ipython>=6.1.0 in c:\\users\\waqua\\appdata\\local\\packages\\pythonsoftwarefoundation.python.3.11_qbz5n2kfra8p0\\localcache\\local-packages\\python311\\site-packages (from ipywidgets) (9.4.0)\n",
      "Requirement already satisfied: traitlets>=4.3.1 in c:\\users\\waqua\\appdata\\local\\packages\\pythonsoftwarefoundation.python.3.11_qbz5n2kfra8p0\\localcache\\local-packages\\python311\\site-packages (from ipywidgets) (5.14.3)\n",
      "Requirement already satisfied: widgetsnbextension~=4.0.14 in c:\\users\\waqua\\appdata\\local\\packages\\pythonsoftwarefoundation.python.3.11_qbz5n2kfra8p0\\localcache\\local-packages\\python311\\site-packages (from ipywidgets) (4.0.14)\n",
      "Requirement already satisfied: jupyterlab_widgets~=3.0.15 in c:\\users\\waqua\\appdata\\local\\packages\\pythonsoftwarefoundation.python.3.11_qbz5n2kfra8p0\\localcache\\local-packages\\python311\\site-packages (from ipywidgets) (3.0.15)\n",
      "Requirement already satisfied: colorama in c:\\users\\waqua\\appdata\\local\\packages\\pythonsoftwarefoundation.python.3.11_qbz5n2kfra8p0\\localcache\\local-packages\\python311\\site-packages (from ipython>=6.1.0->ipywidgets) (0.4.6)\n",
      "Requirement already satisfied: decorator in c:\\users\\waqua\\appdata\\local\\packages\\pythonsoftwarefoundation.python.3.11_qbz5n2kfra8p0\\localcache\\local-packages\\python311\\site-packages (from ipython>=6.1.0->ipywidgets) (5.2.1)\n",
      "Requirement already satisfied: ipython-pygments-lexers in c:\\users\\waqua\\appdata\\local\\packages\\pythonsoftwarefoundation.python.3.11_qbz5n2kfra8p0\\localcache\\local-packages\\python311\\site-packages (from ipython>=6.1.0->ipywidgets) (1.1.1)\n",
      "Requirement already satisfied: jedi>=0.16 in c:\\users\\waqua\\appdata\\local\\packages\\pythonsoftwarefoundation.python.3.11_qbz5n2kfra8p0\\localcache\\local-packages\\python311\\site-packages (from ipython>=6.1.0->ipywidgets) (0.19.2)\n",
      "Requirement already satisfied: matplotlib-inline in c:\\users\\waqua\\appdata\\local\\packages\\pythonsoftwarefoundation.python.3.11_qbz5n2kfra8p0\\localcache\\local-packages\\python311\\site-packages (from ipython>=6.1.0->ipywidgets) (0.1.7)\n",
      "Requirement already satisfied: prompt_toolkit<3.1.0,>=3.0.41 in c:\\users\\waqua\\appdata\\local\\packages\\pythonsoftwarefoundation.python.3.11_qbz5n2kfra8p0\\localcache\\local-packages\\python311\\site-packages (from ipython>=6.1.0->ipywidgets) (3.0.51)\n",
      "Requirement already satisfied: pygments>=2.4.0 in c:\\users\\waqua\\appdata\\local\\packages\\pythonsoftwarefoundation.python.3.11_qbz5n2kfra8p0\\localcache\\local-packages\\python311\\site-packages (from ipython>=6.1.0->ipywidgets) (2.19.2)\n",
      "Requirement already satisfied: stack_data in c:\\users\\waqua\\appdata\\local\\packages\\pythonsoftwarefoundation.python.3.11_qbz5n2kfra8p0\\localcache\\local-packages\\python311\\site-packages (from ipython>=6.1.0->ipywidgets) (0.6.3)\n",
      "Requirement already satisfied: typing_extensions>=4.6 in c:\\users\\waqua\\appdata\\local\\packages\\pythonsoftwarefoundation.python.3.11_qbz5n2kfra8p0\\localcache\\local-packages\\python311\\site-packages (from ipython>=6.1.0->ipywidgets) (4.14.1)\n",
      "Requirement already satisfied: parso<0.9.0,>=0.8.4 in c:\\users\\waqua\\appdata\\local\\packages\\pythonsoftwarefoundation.python.3.11_qbz5n2kfra8p0\\localcache\\local-packages\\python311\\site-packages (from jedi>=0.16->ipython>=6.1.0->ipywidgets) (0.8.4)\n",
      "Requirement already satisfied: wcwidth in c:\\users\\waqua\\appdata\\local\\packages\\pythonsoftwarefoundation.python.3.11_qbz5n2kfra8p0\\localcache\\local-packages\\python311\\site-packages (from prompt_toolkit<3.1.0,>=3.0.41->ipython>=6.1.0->ipywidgets) (0.2.13)\n",
      "Requirement already satisfied: executing>=1.2.0 in c:\\users\\waqua\\appdata\\local\\packages\\pythonsoftwarefoundation.python.3.11_qbz5n2kfra8p0\\localcache\\local-packages\\python311\\site-packages (from stack_data->ipython>=6.1.0->ipywidgets) (2.2.0)\n",
      "Requirement already satisfied: asttokens>=2.1.0 in c:\\users\\waqua\\appdata\\local\\packages\\pythonsoftwarefoundation.python.3.11_qbz5n2kfra8p0\\localcache\\local-packages\\python311\\site-packages (from stack_data->ipython>=6.1.0->ipywidgets) (3.0.0)\n",
      "Requirement already satisfied: pure-eval in c:\\users\\waqua\\appdata\\local\\packages\\pythonsoftwarefoundation.python.3.11_qbz5n2kfra8p0\\localcache\\local-packages\\python311\\site-packages (from stack_data->ipython>=6.1.0->ipywidgets) (0.2.3)\n",
      "Note: you may need to restart the kernel to use updated packages.\n"
     ]
    },
    {
     "name": "stderr",
     "output_type": "stream",
     "text": [
      "\n",
      "[notice] A new release of pip is available: 24.0 -> 25.1.1\n",
      "[notice] To update, run: C:\\Users\\waqua\\AppData\\Local\\Microsoft\\WindowsApps\\PythonSoftwareFoundation.Python.3.11_qbz5n2kfra8p0\\python.exe -m pip install --upgrade pip\n"
     ]
    },
    {
     "data": {
      "application/vnd.jupyter.widget-view+json": {
       "model_id": "7821306e26474ac4b6765bc5501050cc",
       "version_major": 2,
       "version_minor": 0
      },
      "text/plain": [
       "VBox(children=(Text(value='', placeholder='Enter your name'), Text(value='', placeholder='Enter your favourite…"
      ]
     },
     "metadata": {},
     "output_type": "display_data"
    },
    {
     "data": {
      "application/vnd.jupyter.widget-view+json": {
       "model_id": "7293a24c69bf4856be8184a601cf664c",
       "version_major": 2,
       "version_minor": 0
      },
      "text/plain": [
       "Output()"
      ]
     },
     "metadata": {},
     "output_type": "display_data"
    }
   ],
   "source": [
    "%pip install ipywidgets\n",
    "\n",
    "import ipywidgets as widgets\n",
    "from IPython.display import display\n",
    "\n",
    "def greet(user_name, fav_colour, fav_food):\n",
    "    greeting = f\"Hello, {user_name}! Your favourite colour is {fav_colour} and you love {fav_food}.\"\n",
    "    print(greeting)\n",
    "\n",
    "# Create interactive text widgets for input\n",
    "name_widget = widgets.Text(placeholder='Enter your name')\n",
    "colour_widget = widgets.Text(placeholder='Enter your favourite colour')\n",
    "food_widget = widgets.Text(placeholder='Enter your favourite food')\n",
    "\n",
    "ui = widgets.VBox([name_widget, colour_widget, food_widget])\n",
    "out = widgets.interactive_output(greet, {'user_name': name_widget, 'fav_colour': colour_widget, 'fav_food': food_widget})\n",
    "display(ui, out)"
   ]
  }
 ],
 "metadata": {
  "kernelspec": {
   "display_name": "Python 3",
   "language": "python",
   "name": "python3"
  },
  "language_info": {
   "codemirror_mode": {
    "name": "ipython",
    "version": 3
   },
   "file_extension": ".py",
   "mimetype": "text/x-python",
   "name": "python",
   "nbconvert_exporter": "python",
   "pygments_lexer": "ipython3",
   "version": "3.11.9"
  }
 },
 "nbformat": 4,
 "nbformat_minor": 5
}
