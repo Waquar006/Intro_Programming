{
  "cells": [
    {
      "cell_type": "markdown",
      "metadata": {
        "id": "view-in-github",
        "colab_type": "text"
      },
      "source": [
        "<a href=\"https://colab.research.google.com/github/Waquar006/Intro_Programming/blob/Intro_Programming/Week%202%20Notebooks/Activity_1_Personalised_Greeting_%26_User_Preferences.ipynb\" target=\"_parent\"><img src=\"https://colab.research.google.com/assets/colab-badge.svg\" alt=\"Open In Colab\"/></a>"
      ]
    },
    {
      "cell_type": "markdown",
      "metadata": {
        "id": "UqWh27PVUTXd"
      },
      "source": [
        " # Activity 1: Personalised Greeting & User Preferences\n",
        "\n",
        "Welcome to your first hands-on project in Python! In this activity, you will create a program that collects user information, processes it, and displays a personalised message. Along the way, you'll find hints, tips, and even AI suggestions to help you think like a programmer and problem-solver."
      ]
    },
    {
      "cell_type": "raw",
      "metadata": {
        "id": "0noqds80UTXp"
      },
      "source": [
        "---\n",
        "\n",
        "## Project Goal\n",
        "\n",
        "Your mission is to build a simple interactive program that:\n",
        "- Asks the user for their name and a couple of preferences (like their favorite colour and food).\n",
        "- Stores their responses in variables.\n",
        "- Outputs a custom message that uses these inputs.\n",
        "\n",
        "**Tip:** Good variable names help keep your code clear and your intentions obvious.\n",
        "\n",
        "---"
      ]
    },
    {
      "cell_type": "markdown",
      "metadata": {
        "id": "blROYXDwUTXq"
      },
      "source": [
        "## Instructions\n",
        "\n",
        "1. **Collect User Input:**  \n",
        "  Use the `input()` function to ask for details such as the user's name, favourite colour, and favourite food.  \n",
        "   \n",
        "  > **Hint:** Think of `input()` as a way to start a conversation with your computer.\n",
        "\n",
        "2. **Store Responses in Variables:**  \n",
        "  Assign each input value to a variable.  \n",
        "  \n",
        "  > **Tip:** Choose descriptive names for your variables (e.g., `user_name`, `fav_colour`).\n",
        "\n",
        "3. **Output a Summary Message:**  \n",
        "  Use the `print()` function to display a personalized greeting that includes all the user's inputs.\n",
        "\n",
        "4. **Extend and Experiment:**  \n",
        "  Add extra prompts like asking for a favourite hobby or a spirit animal. Experiment with string manipulation methods and see what fun outputs you can create.\n",
        "\n",
        "5. **AI Assistance:**  \n",
        "  If you get stuck, consider asking your AI tutor for hints on string operations or debugging tips.  \n",
        "   \n",
        "  > **AI Tip:** You can say, “How do I combine strings in Python?” for additional guidance."
      ]
    },
    {
      "cell_type": "markdown",
      "metadata": {
        "id": "mtcLfvCLUTXq"
      },
      "source": [
        "---\n",
        "\n",
        "## Step-by-Step Guide\n",
        "\n",
        "### Step 1: Collecting User Input\n",
        "\n",
        "Below is a code snippet to capture user input. Feel free to adjust the prompts as needed."
      ]
    },
    {
      "cell_type": "code",
      "execution_count": null,
      "metadata": {
        "vscode": {
          "languageId": "python"
        },
        "id": "HUQtFjQQUTXq"
      },
      "outputs": [],
      "source": [
        "# Collect basic user inputs\n",
        "user_name = input(\"What is your name? \")\n",
        "fav_colour = input(\"What is your favourite colour? \")\n",
        "fav_food = input(\"What is your favourite food? \")\n",
        "\n",
        "# Display the captured inputs\n",
        "print(\"Name:\", user_name)\n",
        "print(\"Favourite Colour:\", fav_colour)\n",
        "print(\"Favourite Food:\", fav_food)"
      ]
    },
    {
      "cell_type": "code",
      "source": [
        "user_name = input(\"What is your name? \")\n",
        "fav_colour = input(\"What is your favourite colour? \")\n",
        "fav_food = input(\"What is your favourite food? \")\n",
        "\n",
        "# Display the captured inputs\n",
        "print(\"Name:\", user_name)\n",
        "print(\"Favourite Colour:\", fav_colour)\n",
        "print(\"Favourite Food:\", fav_food)"
      ],
      "metadata": {
        "id": "9sMY7hkKF2OU",
        "outputId": "2b2ad8f0-dcdc-4fe6-ffa3-9e0ba16a57d3",
        "colab": {
          "base_uri": "https://localhost:8080/"
        }
      },
      "execution_count": 2,
      "outputs": [
        {
          "output_type": "stream",
          "name": "stdout",
          "text": [
            "What is your name? Waquar\n",
            "What is your favourite colour? Blue\n",
            "What is your favourite food? Chicken\n",
            "Name: Waquar\n",
            "Favourite Colour: Blue\n",
            "Favourite Food: Chicken\n"
          ]
        }
      ]
    },
    {
      "cell_type": "raw",
      "metadata": {
        "id": "nZENXVWyUTXr"
      },
      "source": [
        "> **Concept**: When using `input()`, the string between the quoptes is know as a prompt\n",
        "\n",
        "> **Tip**  When using `print()`, you can separate multiple items with a comma. This tells Python to output each item with a space between them automatically.\n",
        "\n",
        "> **Advanced Concept**  Arguments are passed to functions (like `print()`).  These *arguments* are the values you provide between the parentheses. In this example, each comma-separated value is an argument, and the `print()` function prints them in order.\n",
        "\n",
        "> **Hint:** After running this cell, check that your inputs are stored correctly by printing the variables.\n",
        "\n",
        "---"
      ]
    },
    {
      "cell_type": "markdown",
      "metadata": {
        "id": "5gymyWwIUTXr"
      },
      "source": [
        "### Step 2: Outputting a Personalized Summary\n",
        "\n",
        "Now combine your inputs into a friendly greeting using string concatenation."
      ]
    },
    {
      "cell_type": "code",
      "execution_count": null,
      "metadata": {
        "vscode": {
          "languageId": "python"
        },
        "id": "KchT32mbUTXs"
      },
      "outputs": [],
      "source": [
        "# Output a summary message combining the inputs\n",
        "print(\"Hello, \" + user_name + \"! Your favourite colour is \" + fav_colour +\n",
        "      \" and you love \" + fav_food + \".\")"
      ]
    },
    {
      "cell_type": "code",
      "source": [
        "print(\"Hello, \" + user_name + \"! Your favourite colour is \" + fav_colour +\n",
        "      \" and you love \" + fav_food + \".\")"
      ],
      "metadata": {
        "id": "dfB7wAy8F8tu",
        "outputId": "b9059eec-13ac-4e67-9633-497edab5cc05",
        "colab": {
          "base_uri": "https://localhost:8080/"
        }
      },
      "execution_count": 3,
      "outputs": [
        {
          "output_type": "stream",
          "name": "stdout",
          "text": [
            "Hello, Waquar! Your favourite colour is Blue and you love Chicken.\n"
          ]
        }
      ]
    },
    {
      "cell_type": "markdown",
      "metadata": {
        "id": "xRGxj_epUTXs"
      },
      "source": [
        "> **Tip**  The `+` operator is used here to join, or \"concatenate,\" multiple strings together to build up your final message. Think of it as gluing pieces of text into one complete sentence.\n",
        "\n",
        "> **Advanced Concept:**  Using the `+` operator for strings lets you create new strings by combining literal text with variables. This is one of the fundamental ways to build messages dynamically in Python.\n",
        "\n",
        "> **Advanced Tip:** Experiment with different ways of joining strings – try using f-strings for cleaner code as you become more comfortable."
      ]
    },
    {
      "cell_type": "markdown",
      "metadata": {
        "id": "BMh7F-F1UTXs"
      },
      "source": [
        "---\n",
        "\n",
        "### Step 3: Your Turn – Extend the Program\n",
        "\n",
        "It’s time to add an extra input. For instance, ask the user for their favourite hobby and update your greeting message accordingly."
      ]
    },
    {
      "cell_type": "code",
      "execution_count": null,
      "metadata": {
        "vscode": {
          "languageId": "python"
        },
        "id": "0ZkQRJidUTXs"
      },
      "outputs": [],
      "source": [
        "# TODO: Ask the user for their favourite hobby and store it in a variable.\n",
        "# For example:\n",
        "# fav_hobby = input(\"What is your favourite hobby? \")\n",
        "\n",
        "# Then update the summary message to include the hobby.\n",
        "# For example:\n",
        "# print(\"Hello, \" + user_name + \"! Your favourite colour is \" + fav_colour +\n",
        "#       \", you love \" + fav_food + \", and your favourite hobby is \" + fav_hobby + \".\")"
      ]
    },
    {
      "cell_type": "code",
      "source": [
        " fav_hobby = input(\"What is your favourite hobby? \")\n",
        "print(\"Hello, \" + user_name + \"! Your favourite colour is \" + fav_colour +\n",
        "\", you love \" + fav_food + \", and your favourite hobby is \" + fav_hobby + \".\")"
      ],
      "metadata": {
        "id": "6jW_rLMjGBz7",
        "outputId": "05293c38-fd0f-439e-9919-c680f5310c0b",
        "colab": {
          "base_uri": "https://localhost:8080/"
        }
      },
      "execution_count": 4,
      "outputs": [
        {
          "output_type": "stream",
          "name": "stdout",
          "text": [
            "What is your favourite hobby? Driving\n",
            "Hello, Waquar! Your favourite colour is Blue, you love Chicken, and your favourite hobby is Driving.\n"
          ]
        }
      ]
    },
    {
      "cell_type": "raw",
      "metadata": {
        "id": "GnOVxQ1cUTXt"
      },
      "source": [
        "> **AI Tip:** If you’re not sure how to modify the print statement, ask your AI helper, “How do I update a print statement with more variables in Python?”\n",
        "\n",
        "---"
      ]
    },
    {
      "cell_type": "markdown",
      "metadata": {
        "id": "LcP_WcaJUTXt"
      },
      "source": [
        "## Experiment with input()\n",
        "\n",
        "Try a different twist by asking for something unique, like the user’s spirit animal. This is a fun way to practice with `input()`."
      ]
    },
    {
      "cell_type": "code",
      "execution_count": null,
      "metadata": {
        "vscode": {
          "languageId": "python"
        },
        "id": "fHhF5gg8UTXt"
      },
      "outputs": [],
      "source": [
        "spirit_animal = input(\"What's your spirit animal? \")\n",
        "print(\"Interesting choice! I wonder why a\", spirit_animal, \"resonates with you.\")"
      ]
    },
    {
      "cell_type": "code",
      "source": [
        "spirit_animal = input(\"What's your spirit animal? \")\n",
        "print(\"Interesting choice! I wonder why a\", spirit_animal, \"resonates with you.\")"
      ],
      "metadata": {
        "id": "QkALY9BhGJuV",
        "outputId": "453ea565-a80d-4795-d857-4e21d7abc3b5",
        "colab": {
          "base_uri": "https://localhost:8080/"
        }
      },
      "execution_count": 5,
      "outputs": [
        {
          "output_type": "stream",
          "name": "stdout",
          "text": [
            "What's your spirit animal? Tiger\n",
            "Interesting choice! I wonder why a Tiger resonates with you.\n"
          ]
        }
      ]
    },
    {
      "cell_type": "markdown",
      "metadata": {
        "id": "vEVy76djUTXt"
      },
      "source": [
        "> **Hint:** Think about how different input types (like numbers or strings) can change your approach to programming."
      ]
    },
    {
      "cell_type": "markdown",
      "metadata": {
        "id": "s1yUSeoMUTXt"
      },
      "source": [
        "---\n",
        "\n",
        "## Simple String Manipulation\n",
        "\n",
        "Discover how to change the style of your text. The code below shows your name transformed to all uppercase letters."
      ]
    },
    {
      "cell_type": "code",
      "execution_count": null,
      "metadata": {
        "vscode": {
          "languageId": "python"
        },
        "id": "vKJMOVwwUTXt"
      },
      "outputs": [],
      "source": [
        "print(\"Your name in all caps is\", user_name.upper() + \"!\")"
      ]
    },
    {
      "cell_type": "code",
      "source": [
        "print(\"Your name in all caps is\", user_name.upper() + \"!\")"
      ],
      "metadata": {
        "id": "8GsrVkaYGOqU",
        "outputId": "d5881f5c-c719-4121-dcac-cb3598e07858",
        "colab": {
          "base_uri": "https://localhost:8080/"
        }
      },
      "execution_count": 6,
      "outputs": [
        {
          "output_type": "stream",
          "name": "stdout",
          "text": [
            "Your name in all caps is WAQUAR!\n"
          ]
        }
      ]
    },
    {
      "cell_type": "raw",
      "metadata": {
        "id": "L0qogMOSUTXt"
      },
      "source": [
        "> **Tip:** String methods like `.upper()`, `.lower()`, and `.title()` are useful for standardizing text input.\n",
        "\n",
        "---"
      ]
    },
    {
      "cell_type": "markdown",
      "metadata": {
        "id": "YDIy4xzgUTXu"
      },
      "source": [
        "## Advanced Concept: Understanding Dot-Methods\n",
        "\n",
        "When you see a dot (.) following a variable in Python—like in `user_name.upper()`—you're using a method that belongs to that variable's type. In this example, `user_name` is a string, and `.upper()` is a method that converts all characters to uppercase.\n",
        "\n",
        "- **Dot-Methods Explained:**  \n",
        "  In Python, many data types have built-in functions (methods) that perform common tasks. When you type a dot after a variable, your IDE (Integrated Development Environment) can display a list of available methods. For instance, type `user_name.` and pause, and you'll see a drop-down list of string methods. This list gets filtered as you type more letters, helping you quickly find the method you need.\n",
        "\n",
        "- **IDE Autocomplete Tip:**  \n",
        "  If you're ever unsure which method to use, try typing a dot after your variable name. Your IDE’s autocomplete feature will suggest options along with a brief description. This is a great way to learn about what methods are available for strings and other objects before diving deeper into object-oriented programming later in the course.\n",
        "\n",
        "> **AI Tip:** Ask your AI tutor, “What are some common string methods in Python?” for more examples and explanations."
      ]
    },
    {
      "cell_type": "markdown",
      "metadata": {
        "id": "6bZvNb90UTXu"
      },
      "source": [
        "---\n",
        "\n",
        "## Mini-Challenges\n",
        "\n",
        "### Challenge 1: Multi-line Greeting  \n",
        "Modify your greeting message so it prints on two lines.  \n",
        "\n",
        "> *Hint:* Insert the newline character `\\n` in your string to start a new line."
      ]
    },
    {
      "cell_type": "code",
      "execution_count": null,
      "metadata": {
        "vscode": {
          "languageId": "python"
        },
        "id": "oSNjaUW1UTXu"
      },
      "outputs": [],
      "source": [
        "# TODO: Modify the greeting message to print on two separate lines.\n",
        "# For example, consider:\n",
        "# print(\"Hello, \" + user_name + \"!\\nYour favourite colour is \" + fav_colour +\n",
        "#       \" and you love \" + fav_food + \".\")"
      ]
    },
    {
      "cell_type": "code",
      "source": [
        "print(\"Hello, \" + user_name + \"!\\nYour favourite colour is \" + fav_colour +\n",
        "\" and you love \" + fav_food + \".\")"
      ],
      "metadata": {
        "id": "kV1GpPrgGQZP",
        "outputId": "6187f5ed-b26f-4f2c-ae6c-711fd6c77a83",
        "colab": {
          "base_uri": "https://localhost:8080/"
        }
      },
      "execution_count": 7,
      "outputs": [
        {
          "output_type": "stream",
          "name": "stdout",
          "text": [
            "Hello, Waquar!\n",
            "Your favourite colour is Blue and you love Chicken.\n"
          ]
        }
      ]
    },
    {
      "cell_type": "raw",
      "metadata": {
        "id": "fRr0OysWUTXu"
      },
      "source": [
        "> **AI Tip:** If you need a refresher on escape sequences in Python, ask, “What are escape sequences in Python?”\n",
        "\n",
        "---"
      ]
    },
    {
      "cell_type": "markdown",
      "metadata": {
        "id": "kvkaPh9aUTXu"
      },
      "source": [
        "### Challenge 2: Age Calculator  \n",
        "Ask the user for their birth year and calculate their age for the current year.  \n",
        "*Hint:* You might need to import the `datetime` module to obtain the current year."
      ]
    },
    {
      "cell_type": "code",
      "execution_count": null,
      "metadata": {
        "vscode": {
          "languageId": "python"
        },
        "id": "1DYgy0yQUTXu"
      },
      "outputs": [],
      "source": [
        "# TODO: Ask the user for their birth year and calculate their age.\n",
        "# For example:\n",
        "# birth_year = int(input(\"What year were you born? \"))\n",
        "# import datetime\n",
        "# current_year = datetime.datetime.now().year\n",
        "# age = current_year - birth_year\n",
        "# print(\"You are\", age, \"years old!\")"
      ]
    },
    {
      "cell_type": "code",
      "source": [
        "birth_year = int(input(\"What year were you born? \"))\n",
        "import datetime\n",
        "current_year = datetime.datetime.now().year\n",
        "age = current_year - birth_year\n",
        "print(\"You are\", age, \"years old!\")"
      ],
      "metadata": {
        "id": "iBx9qzFyGYmW",
        "outputId": "2308b67e-4f1f-4acb-97e7-0f1c96cb0653",
        "colab": {
          "base_uri": "https://localhost:8080/"
        }
      },
      "execution_count": 8,
      "outputs": [
        {
          "output_type": "stream",
          "name": "stdout",
          "text": [
            "What year were you born? 1998\n",
            "You are 27 years old!\n"
          ]
        }
      ]
    },
    {
      "cell_type": "markdown",
      "metadata": {
        "id": "ImilsyI-UTXu"
      },
      "source": [
        "> **Tip:** Make sure to convert the input from a string to an integer using `int()` before doing arithmetic."
      ]
    },
    {
      "cell_type": "markdown",
      "metadata": {
        "id": "5TAY93NBUTXu"
      },
      "source": [
        "---\n",
        "\n",
        "## Optional Advanced: Interactive Input with ipywidgets\n",
        "\n",
        "This section provides a sneak peek into interactive programming techniques. Feel free to explore if you’re curious about more dynamic user interfaces. (Don't worry if this seems advanced—it's an optional bonus!)"
      ]
    },
    {
      "cell_type": "code",
      "execution_count": null,
      "metadata": {
        "vscode": {
          "languageId": "python"
        },
        "id": "TVTu3NQWUTXv"
      },
      "outputs": [],
      "source": [
        "# Optional Advanced: Using ipywidgets for interactive input\n",
        "# If needed, uncomment the next line to install ipywidgets in Colab\n",
        "# !pip install ipywidgets\n",
        "\n",
        "import ipywidgets as widgets\n",
        "from IPython.display import display\n",
        "\n",
        "def greet(user_name, fav_colour, fav_food):\n",
        "    greeting = f\"Hello, {user_name}! Your favourite colour is {fav_colour} and you love {fav_food}.\"\n",
        "    print(greeting)\n",
        "\n",
        "# Create interactive text widgets for input\n",
        "name_widget = widgets.Text(placeholder='Enter your name')\n",
        "colour_widget = widgets.Text(placeholder='Enter your favourite colour')\n",
        "food_widget = widgets.Text(placeholder='Enter your favourite food')\n",
        "\n",
        "ui = widgets.VBox([name_widget, colour_widget, food_widget])\n",
        "out = widgets.interactive_output(greet, {'user_name': name_widget, 'fav_colour': colour_widget, 'fav_food': food_widget})\n",
        "display(ui, out)"
      ]
    },
    {
      "cell_type": "code",
      "source": [
        "!pip install ipywidgets\n",
        "\n",
        "import ipywidgets as widgets\n",
        "from IPython.display import display\n",
        "\n",
        "def greet(user_name, fav_colour, fav_food):\n",
        "    greeting = f\"Hello, {user_name}! Your favourite colour is {fav_colour} and you love {fav_food}.\"\n",
        "    print(greeting)\n",
        "\n",
        "# Create interactive text widgets for input\n",
        "name_widget = widgets.Text(placeholder='Enter your name')\n",
        "colour_widget = widgets.Text(placeholder='Enter your favourite colour')\n",
        "food_widget = widgets.Text(placeholder='Enter your favourite food')\n",
        "\n",
        "ui = widgets.VBox([name_widget, colour_widget, food_widget])\n",
        "out = widgets.interactive_output(greet, {'user_name': name_widget, 'fav_colour': colour_widget, 'fav_food': food_widget})\n",
        "display(ui, out)"
      ],
      "metadata": {
        "id": "NIj86C-pEwXU",
        "outputId": "ec294fe6-1a05-45b7-ddee-3c87eb00284c",
        "colab": {
          "base_uri": "https://localhost:8080/",
          "height": 1000,
          "referenced_widgets": [
            "e0f78f8fb39d42adaf4fe56fc4c09b70",
            "a2abc144d66b4733991661401692b2f2",
            "f1cec04c3685447080a2f262a507af3c",
            "644fea60a6e4436aab75dd72f79b9c45",
            "ddf402b91c074c13a0a7dc7572924aba",
            "b9d4e46e327949c7a8790762d7a8d285",
            "607b05d3e59642cdb41e10721bc613dc",
            "c1e15d9118a5451588716805158ddb06",
            "6847731f9da043bd893568383029c9d1",
            "29e8f56474be46a8b1686a12342d79a8",
            "538e4ff28b524004b653fe2522344898",
            "c92bbe529f884cd3879de3a942cd418e",
            "ee3e560dee6c455489115b01a1b41383"
          ]
        }
      },
      "execution_count": 1,
      "outputs": [
        {
          "output_type": "stream",
          "name": "stdout",
          "text": [
            "Requirement already satisfied: ipywidgets in /usr/local/lib/python3.11/dist-packages (7.7.1)\n",
            "Requirement already satisfied: ipykernel>=4.5.1 in /usr/local/lib/python3.11/dist-packages (from ipywidgets) (6.17.1)\n",
            "Requirement already satisfied: ipython-genutils~=0.2.0 in /usr/local/lib/python3.11/dist-packages (from ipywidgets) (0.2.0)\n",
            "Requirement already satisfied: traitlets>=4.3.1 in /usr/local/lib/python3.11/dist-packages (from ipywidgets) (5.7.1)\n",
            "Requirement already satisfied: widgetsnbextension~=3.6.0 in /usr/local/lib/python3.11/dist-packages (from ipywidgets) (3.6.10)\n",
            "Requirement already satisfied: ipython>=4.0.0 in /usr/local/lib/python3.11/dist-packages (from ipywidgets) (7.34.0)\n",
            "Requirement already satisfied: jupyterlab-widgets>=1.0.0 in /usr/local/lib/python3.11/dist-packages (from ipywidgets) (3.0.15)\n",
            "Requirement already satisfied: debugpy>=1.0 in /usr/local/lib/python3.11/dist-packages (from ipykernel>=4.5.1->ipywidgets) (1.8.15)\n",
            "Requirement already satisfied: jupyter-client>=6.1.12 in /usr/local/lib/python3.11/dist-packages (from ipykernel>=4.5.1->ipywidgets) (6.1.12)\n",
            "Requirement already satisfied: matplotlib-inline>=0.1 in /usr/local/lib/python3.11/dist-packages (from ipykernel>=4.5.1->ipywidgets) (0.1.7)\n",
            "Requirement already satisfied: nest-asyncio in /usr/local/lib/python3.11/dist-packages (from ipykernel>=4.5.1->ipywidgets) (1.6.0)\n",
            "Requirement already satisfied: packaging in /usr/local/lib/python3.11/dist-packages (from ipykernel>=4.5.1->ipywidgets) (25.0)\n",
            "Requirement already satisfied: psutil in /usr/local/lib/python3.11/dist-packages (from ipykernel>=4.5.1->ipywidgets) (5.9.5)\n",
            "Requirement already satisfied: pyzmq>=17 in /usr/local/lib/python3.11/dist-packages (from ipykernel>=4.5.1->ipywidgets) (26.2.1)\n",
            "Requirement already satisfied: tornado>=6.1 in /usr/local/lib/python3.11/dist-packages (from ipykernel>=4.5.1->ipywidgets) (6.4.2)\n",
            "Requirement already satisfied: setuptools>=18.5 in /usr/local/lib/python3.11/dist-packages (from ipython>=4.0.0->ipywidgets) (75.2.0)\n",
            "Collecting jedi>=0.16 (from ipython>=4.0.0->ipywidgets)\n",
            "  Downloading jedi-0.19.2-py2.py3-none-any.whl.metadata (22 kB)\n",
            "Requirement already satisfied: decorator in /usr/local/lib/python3.11/dist-packages (from ipython>=4.0.0->ipywidgets) (4.4.2)\n",
            "Requirement already satisfied: pickleshare in /usr/local/lib/python3.11/dist-packages (from ipython>=4.0.0->ipywidgets) (0.7.5)\n",
            "Requirement already satisfied: prompt-toolkit!=3.0.0,!=3.0.1,<3.1.0,>=2.0.0 in /usr/local/lib/python3.11/dist-packages (from ipython>=4.0.0->ipywidgets) (3.0.51)\n",
            "Requirement already satisfied: pygments in /usr/local/lib/python3.11/dist-packages (from ipython>=4.0.0->ipywidgets) (2.19.2)\n",
            "Requirement already satisfied: backcall in /usr/local/lib/python3.11/dist-packages (from ipython>=4.0.0->ipywidgets) (0.2.0)\n",
            "Requirement already satisfied: pexpect>4.3 in /usr/local/lib/python3.11/dist-packages (from ipython>=4.0.0->ipywidgets) (4.9.0)\n",
            "Requirement already satisfied: notebook>=4.4.1 in /usr/local/lib/python3.11/dist-packages (from widgetsnbextension~=3.6.0->ipywidgets) (6.5.7)\n",
            "Requirement already satisfied: parso<0.9.0,>=0.8.4 in /usr/local/lib/python3.11/dist-packages (from jedi>=0.16->ipython>=4.0.0->ipywidgets) (0.8.4)\n",
            "Requirement already satisfied: jupyter-core>=4.6.0 in /usr/local/lib/python3.11/dist-packages (from jupyter-client>=6.1.12->ipykernel>=4.5.1->ipywidgets) (5.8.1)\n",
            "Requirement already satisfied: python-dateutil>=2.1 in /usr/local/lib/python3.11/dist-packages (from jupyter-client>=6.1.12->ipykernel>=4.5.1->ipywidgets) (2.9.0.post0)\n",
            "Requirement already satisfied: jinja2 in /usr/local/lib/python3.11/dist-packages (from notebook>=4.4.1->widgetsnbextension~=3.6.0->ipywidgets) (3.1.6)\n",
            "Requirement already satisfied: argon2-cffi in /usr/local/lib/python3.11/dist-packages (from notebook>=4.4.1->widgetsnbextension~=3.6.0->ipywidgets) (25.1.0)\n",
            "Requirement already satisfied: nbformat in /usr/local/lib/python3.11/dist-packages (from notebook>=4.4.1->widgetsnbextension~=3.6.0->ipywidgets) (5.10.4)\n",
            "Requirement already satisfied: nbconvert>=5 in /usr/local/lib/python3.11/dist-packages (from notebook>=4.4.1->widgetsnbextension~=3.6.0->ipywidgets) (7.16.6)\n",
            "Requirement already satisfied: Send2Trash>=1.8.0 in /usr/local/lib/python3.11/dist-packages (from notebook>=4.4.1->widgetsnbextension~=3.6.0->ipywidgets) (1.8.3)\n",
            "Requirement already satisfied: terminado>=0.8.3 in /usr/local/lib/python3.11/dist-packages (from notebook>=4.4.1->widgetsnbextension~=3.6.0->ipywidgets) (0.18.1)\n",
            "Requirement already satisfied: prometheus-client in /usr/local/lib/python3.11/dist-packages (from notebook>=4.4.1->widgetsnbextension~=3.6.0->ipywidgets) (0.22.1)\n",
            "Requirement already satisfied: nbclassic>=0.4.7 in /usr/local/lib/python3.11/dist-packages (from notebook>=4.4.1->widgetsnbextension~=3.6.0->ipywidgets) (1.3.1)\n",
            "Requirement already satisfied: ptyprocess>=0.5 in /usr/local/lib/python3.11/dist-packages (from pexpect>4.3->ipython>=4.0.0->ipywidgets) (0.7.0)\n",
            "Requirement already satisfied: wcwidth in /usr/local/lib/python3.11/dist-packages (from prompt-toolkit!=3.0.0,!=3.0.1,<3.1.0,>=2.0.0->ipython>=4.0.0->ipywidgets) (0.2.13)\n",
            "Requirement already satisfied: platformdirs>=2.5 in /usr/local/lib/python3.11/dist-packages (from jupyter-core>=4.6.0->jupyter-client>=6.1.12->ipykernel>=4.5.1->ipywidgets) (4.3.8)\n",
            "Requirement already satisfied: notebook-shim>=0.2.3 in /usr/local/lib/python3.11/dist-packages (from nbclassic>=0.4.7->notebook>=4.4.1->widgetsnbextension~=3.6.0->ipywidgets) (0.2.4)\n",
            "Requirement already satisfied: beautifulsoup4 in /usr/local/lib/python3.11/dist-packages (from nbconvert>=5->notebook>=4.4.1->widgetsnbextension~=3.6.0->ipywidgets) (4.13.4)\n",
            "Requirement already satisfied: bleach!=5.0.0 in /usr/local/lib/python3.11/dist-packages (from bleach[css]!=5.0.0->nbconvert>=5->notebook>=4.4.1->widgetsnbextension~=3.6.0->ipywidgets) (6.2.0)\n",
            "Requirement already satisfied: defusedxml in /usr/local/lib/python3.11/dist-packages (from nbconvert>=5->notebook>=4.4.1->widgetsnbextension~=3.6.0->ipywidgets) (0.7.1)\n",
            "Requirement already satisfied: jupyterlab-pygments in /usr/local/lib/python3.11/dist-packages (from nbconvert>=5->notebook>=4.4.1->widgetsnbextension~=3.6.0->ipywidgets) (0.3.0)\n",
            "Requirement already satisfied: markupsafe>=2.0 in /usr/local/lib/python3.11/dist-packages (from nbconvert>=5->notebook>=4.4.1->widgetsnbextension~=3.6.0->ipywidgets) (3.0.2)\n",
            "Requirement already satisfied: mistune<4,>=2.0.3 in /usr/local/lib/python3.11/dist-packages (from nbconvert>=5->notebook>=4.4.1->widgetsnbextension~=3.6.0->ipywidgets) (3.1.3)\n",
            "Requirement already satisfied: nbclient>=0.5.0 in /usr/local/lib/python3.11/dist-packages (from nbconvert>=5->notebook>=4.4.1->widgetsnbextension~=3.6.0->ipywidgets) (0.10.2)\n",
            "Requirement already satisfied: pandocfilters>=1.4.1 in /usr/local/lib/python3.11/dist-packages (from nbconvert>=5->notebook>=4.4.1->widgetsnbextension~=3.6.0->ipywidgets) (1.5.1)\n",
            "Requirement already satisfied: fastjsonschema>=2.15 in /usr/local/lib/python3.11/dist-packages (from nbformat->notebook>=4.4.1->widgetsnbextension~=3.6.0->ipywidgets) (2.21.1)\n",
            "Requirement already satisfied: jsonschema>=2.6 in /usr/local/lib/python3.11/dist-packages (from nbformat->notebook>=4.4.1->widgetsnbextension~=3.6.0->ipywidgets) (4.25.0)\n",
            "Requirement already satisfied: six>=1.5 in /usr/local/lib/python3.11/dist-packages (from python-dateutil>=2.1->jupyter-client>=6.1.12->ipykernel>=4.5.1->ipywidgets) (1.17.0)\n",
            "Requirement already satisfied: argon2-cffi-bindings in /usr/local/lib/python3.11/dist-packages (from argon2-cffi->notebook>=4.4.1->widgetsnbextension~=3.6.0->ipywidgets) (21.2.0)\n",
            "Requirement already satisfied: webencodings in /usr/local/lib/python3.11/dist-packages (from bleach!=5.0.0->bleach[css]!=5.0.0->nbconvert>=5->notebook>=4.4.1->widgetsnbextension~=3.6.0->ipywidgets) (0.5.1)\n",
            "Requirement already satisfied: tinycss2<1.5,>=1.1.0 in /usr/local/lib/python3.11/dist-packages (from bleach[css]!=5.0.0->nbconvert>=5->notebook>=4.4.1->widgetsnbextension~=3.6.0->ipywidgets) (1.4.0)\n",
            "Requirement already satisfied: attrs>=22.2.0 in /usr/local/lib/python3.11/dist-packages (from jsonschema>=2.6->nbformat->notebook>=4.4.1->widgetsnbextension~=3.6.0->ipywidgets) (25.3.0)\n",
            "Requirement already satisfied: jsonschema-specifications>=2023.03.6 in /usr/local/lib/python3.11/dist-packages (from jsonschema>=2.6->nbformat->notebook>=4.4.1->widgetsnbextension~=3.6.0->ipywidgets) (2025.4.1)\n",
            "Requirement already satisfied: referencing>=0.28.4 in /usr/local/lib/python3.11/dist-packages (from jsonschema>=2.6->nbformat->notebook>=4.4.1->widgetsnbextension~=3.6.0->ipywidgets) (0.36.2)\n",
            "Requirement already satisfied: rpds-py>=0.7.1 in /usr/local/lib/python3.11/dist-packages (from jsonschema>=2.6->nbformat->notebook>=4.4.1->widgetsnbextension~=3.6.0->ipywidgets) (0.26.0)\n",
            "Requirement already satisfied: jupyter-server<3,>=1.8 in /usr/local/lib/python3.11/dist-packages (from notebook-shim>=0.2.3->nbclassic>=0.4.7->notebook>=4.4.1->widgetsnbextension~=3.6.0->ipywidgets) (1.16.0)\n",
            "Requirement already satisfied: cffi>=1.0.1 in /usr/local/lib/python3.11/dist-packages (from argon2-cffi-bindings->argon2-cffi->notebook>=4.4.1->widgetsnbextension~=3.6.0->ipywidgets) (1.17.1)\n",
            "Requirement already satisfied: soupsieve>1.2 in /usr/local/lib/python3.11/dist-packages (from beautifulsoup4->nbconvert>=5->notebook>=4.4.1->widgetsnbextension~=3.6.0->ipywidgets) (2.7)\n",
            "Requirement already satisfied: typing-extensions>=4.0.0 in /usr/local/lib/python3.11/dist-packages (from beautifulsoup4->nbconvert>=5->notebook>=4.4.1->widgetsnbextension~=3.6.0->ipywidgets) (4.14.1)\n",
            "Requirement already satisfied: pycparser in /usr/local/lib/python3.11/dist-packages (from cffi>=1.0.1->argon2-cffi-bindings->argon2-cffi->notebook>=4.4.1->widgetsnbextension~=3.6.0->ipywidgets) (2.22)\n",
            "Requirement already satisfied: anyio>=3.1.0 in /usr/local/lib/python3.11/dist-packages (from jupyter-server<3,>=1.8->notebook-shim>=0.2.3->nbclassic>=0.4.7->notebook>=4.4.1->widgetsnbextension~=3.6.0->ipywidgets) (4.9.0)\n",
            "Requirement already satisfied: websocket-client in /usr/local/lib/python3.11/dist-packages (from jupyter-server<3,>=1.8->notebook-shim>=0.2.3->nbclassic>=0.4.7->notebook>=4.4.1->widgetsnbextension~=3.6.0->ipywidgets) (1.8.0)\n",
            "Requirement already satisfied: idna>=2.8 in /usr/local/lib/python3.11/dist-packages (from anyio>=3.1.0->jupyter-server<3,>=1.8->notebook-shim>=0.2.3->nbclassic>=0.4.7->notebook>=4.4.1->widgetsnbextension~=3.6.0->ipywidgets) (3.10)\n",
            "Requirement already satisfied: sniffio>=1.1 in /usr/local/lib/python3.11/dist-packages (from anyio>=3.1.0->jupyter-server<3,>=1.8->notebook-shim>=0.2.3->nbclassic>=0.4.7->notebook>=4.4.1->widgetsnbextension~=3.6.0->ipywidgets) (1.3.1)\n",
            "Downloading jedi-0.19.2-py2.py3-none-any.whl (1.6 MB)\n",
            "\u001b[2K   \u001b[90m━━━━━━━━━━━━━━━━━━━━━━━━━━━━━━━━━━━━━━━━\u001b[0m \u001b[32m1.6/1.6 MB\u001b[0m \u001b[31m18.2 MB/s\u001b[0m eta \u001b[36m0:00:00\u001b[0m\n",
            "\u001b[?25hInstalling collected packages: jedi\n",
            "Successfully installed jedi-0.19.2\n"
          ]
        },
        {
          "output_type": "display_data",
          "data": {
            "text/plain": [
              "VBox(children=(Text(value='', placeholder='Enter your name'), Text(value='', placeholder='Enter your favourite…"
            ],
            "application/vnd.jupyter.widget-view+json": {
              "version_major": 2,
              "version_minor": 0,
              "model_id": "e0f78f8fb39d42adaf4fe56fc4c09b70"
            }
          },
          "metadata": {}
        },
        {
          "output_type": "display_data",
          "data": {
            "text/plain": [
              "Output()"
            ],
            "application/vnd.jupyter.widget-view+json": {
              "version_major": 2,
              "version_minor": 0,
              "model_id": "c92bbe529f884cd3879de3a942cd418e"
            }
          },
          "metadata": {}
        }
      ]
    },
    {
      "cell_type": "raw",
      "metadata": {
        "id": "B9fh037PUTXv"
      },
      "source": [
        "> **AI Tip:** Use the interactive widgets as a way to see real-time feedback on your code. You can ask your AI tutor for more creative ideas on using ipywidgets.\n",
        "\n",
        "---"
      ]
    },
    {
      "cell_type": "markdown",
      "metadata": {
        "id": "BHrHI2J4UTXv"
      },
      "source": [
        "## Summary and Next Steps\n",
        "\n",
        "- **Experiment:**  \n",
        "  Play around with different prompts and string methods. For instance, try converting text to uppercase or adding another personal touch to your greeting.\n",
        "\n",
        "- **Mini-Challenges:**  \n",
        "  Work on the mini-challenges above to further hone your coding skills.\n",
        "\n",
        "- **Interactive Widgets (Optional):**  \n",
        "  Explore the ipywidgets section to learn about interactive programming. Ask your AI helper for extra resources if you're interested!\n",
        "\n",
        "Remember, programming is about exploring and learning from your experiments. If you get stuck, your Lecturer, Tutor and AI tutor are here to help.\n",
        "\n",
        "Happy coding!"
      ]
    }
  ],
  "metadata": {
    "kernelspec": {
      "display_name": "Python 3 (ipykernel)",
      "language": "python",
      "name": "python3"
    },
    "colab": {
      "provenance": [],
      "toc_visible": true,
      "include_colab_link": true
    },
    "widgets": {
      "application/vnd.jupyter.widget-state+json": {
        "e0f78f8fb39d42adaf4fe56fc4c09b70": {
          "model_module": "@jupyter-widgets/controls",
          "model_name": "VBoxModel",
          "model_module_version": "1.5.0",
          "state": {
            "_dom_classes": [],
            "_model_module": "@jupyter-widgets/controls",
            "_model_module_version": "1.5.0",
            "_model_name": "VBoxModel",
            "_view_count": null,
            "_view_module": "@jupyter-widgets/controls",
            "_view_module_version": "1.5.0",
            "_view_name": "VBoxView",
            "box_style": "",
            "children": [
              "IPY_MODEL_a2abc144d66b4733991661401692b2f2",
              "IPY_MODEL_f1cec04c3685447080a2f262a507af3c",
              "IPY_MODEL_644fea60a6e4436aab75dd72f79b9c45"
            ],
            "layout": "IPY_MODEL_ddf402b91c074c13a0a7dc7572924aba"
          }
        },
        "a2abc144d66b4733991661401692b2f2": {
          "model_module": "@jupyter-widgets/controls",
          "model_name": "TextModel",
          "model_module_version": "1.5.0",
          "state": {
            "_dom_classes": [],
            "_model_module": "@jupyter-widgets/controls",
            "_model_module_version": "1.5.0",
            "_model_name": "TextModel",
            "_view_count": null,
            "_view_module": "@jupyter-widgets/controls",
            "_view_module_version": "1.5.0",
            "_view_name": "TextView",
            "continuous_update": true,
            "description": "",
            "description_tooltip": null,
            "disabled": false,
            "layout": "IPY_MODEL_b9d4e46e327949c7a8790762d7a8d285",
            "placeholder": "Enter your name",
            "style": "IPY_MODEL_607b05d3e59642cdb41e10721bc613dc",
            "value": "Waquar"
          }
        },
        "f1cec04c3685447080a2f262a507af3c": {
          "model_module": "@jupyter-widgets/controls",
          "model_name": "TextModel",
          "model_module_version": "1.5.0",
          "state": {
            "_dom_classes": [],
            "_model_module": "@jupyter-widgets/controls",
            "_model_module_version": "1.5.0",
            "_model_name": "TextModel",
            "_view_count": null,
            "_view_module": "@jupyter-widgets/controls",
            "_view_module_version": "1.5.0",
            "_view_name": "TextView",
            "continuous_update": true,
            "description": "",
            "description_tooltip": null,
            "disabled": false,
            "layout": "IPY_MODEL_c1e15d9118a5451588716805158ddb06",
            "placeholder": "Enter your favourite colour",
            "style": "IPY_MODEL_6847731f9da043bd893568383029c9d1",
            "value": "Blue"
          }
        },
        "644fea60a6e4436aab75dd72f79b9c45": {
          "model_module": "@jupyter-widgets/controls",
          "model_name": "TextModel",
          "model_module_version": "1.5.0",
          "state": {
            "_dom_classes": [],
            "_model_module": "@jupyter-widgets/controls",
            "_model_module_version": "1.5.0",
            "_model_name": "TextModel",
            "_view_count": null,
            "_view_module": "@jupyter-widgets/controls",
            "_view_module_version": "1.5.0",
            "_view_name": "TextView",
            "continuous_update": true,
            "description": "",
            "description_tooltip": null,
            "disabled": false,
            "layout": "IPY_MODEL_29e8f56474be46a8b1686a12342d79a8",
            "placeholder": "Enter your favourite food",
            "style": "IPY_MODEL_538e4ff28b524004b653fe2522344898",
            "value": "Chicken"
          }
        },
        "ddf402b91c074c13a0a7dc7572924aba": {
          "model_module": "@jupyter-widgets/base",
          "model_name": "LayoutModel",
          "model_module_version": "1.2.0",
          "state": {
            "_model_module": "@jupyter-widgets/base",
            "_model_module_version": "1.2.0",
            "_model_name": "LayoutModel",
            "_view_count": null,
            "_view_module": "@jupyter-widgets/base",
            "_view_module_version": "1.2.0",
            "_view_name": "LayoutView",
            "align_content": null,
            "align_items": null,
            "align_self": null,
            "border": null,
            "bottom": null,
            "display": null,
            "flex": null,
            "flex_flow": null,
            "grid_area": null,
            "grid_auto_columns": null,
            "grid_auto_flow": null,
            "grid_auto_rows": null,
            "grid_column": null,
            "grid_gap": null,
            "grid_row": null,
            "grid_template_areas": null,
            "grid_template_columns": null,
            "grid_template_rows": null,
            "height": null,
            "justify_content": null,
            "justify_items": null,
            "left": null,
            "margin": null,
            "max_height": null,
            "max_width": null,
            "min_height": null,
            "min_width": null,
            "object_fit": null,
            "object_position": null,
            "order": null,
            "overflow": null,
            "overflow_x": null,
            "overflow_y": null,
            "padding": null,
            "right": null,
            "top": null,
            "visibility": null,
            "width": null
          }
        },
        "b9d4e46e327949c7a8790762d7a8d285": {
          "model_module": "@jupyter-widgets/base",
          "model_name": "LayoutModel",
          "model_module_version": "1.2.0",
          "state": {
            "_model_module": "@jupyter-widgets/base",
            "_model_module_version": "1.2.0",
            "_model_name": "LayoutModel",
            "_view_count": null,
            "_view_module": "@jupyter-widgets/base",
            "_view_module_version": "1.2.0",
            "_view_name": "LayoutView",
            "align_content": null,
            "align_items": null,
            "align_self": null,
            "border": null,
            "bottom": null,
            "display": null,
            "flex": null,
            "flex_flow": null,
            "grid_area": null,
            "grid_auto_columns": null,
            "grid_auto_flow": null,
            "grid_auto_rows": null,
            "grid_column": null,
            "grid_gap": null,
            "grid_row": null,
            "grid_template_areas": null,
            "grid_template_columns": null,
            "grid_template_rows": null,
            "height": null,
            "justify_content": null,
            "justify_items": null,
            "left": null,
            "margin": null,
            "max_height": null,
            "max_width": null,
            "min_height": null,
            "min_width": null,
            "object_fit": null,
            "object_position": null,
            "order": null,
            "overflow": null,
            "overflow_x": null,
            "overflow_y": null,
            "padding": null,
            "right": null,
            "top": null,
            "visibility": null,
            "width": null
          }
        },
        "607b05d3e59642cdb41e10721bc613dc": {
          "model_module": "@jupyter-widgets/controls",
          "model_name": "DescriptionStyleModel",
          "model_module_version": "1.5.0",
          "state": {
            "_model_module": "@jupyter-widgets/controls",
            "_model_module_version": "1.5.0",
            "_model_name": "DescriptionStyleModel",
            "_view_count": null,
            "_view_module": "@jupyter-widgets/base",
            "_view_module_version": "1.2.0",
            "_view_name": "StyleView",
            "description_width": ""
          }
        },
        "c1e15d9118a5451588716805158ddb06": {
          "model_module": "@jupyter-widgets/base",
          "model_name": "LayoutModel",
          "model_module_version": "1.2.0",
          "state": {
            "_model_module": "@jupyter-widgets/base",
            "_model_module_version": "1.2.0",
            "_model_name": "LayoutModel",
            "_view_count": null,
            "_view_module": "@jupyter-widgets/base",
            "_view_module_version": "1.2.0",
            "_view_name": "LayoutView",
            "align_content": null,
            "align_items": null,
            "align_self": null,
            "border": null,
            "bottom": null,
            "display": null,
            "flex": null,
            "flex_flow": null,
            "grid_area": null,
            "grid_auto_columns": null,
            "grid_auto_flow": null,
            "grid_auto_rows": null,
            "grid_column": null,
            "grid_gap": null,
            "grid_row": null,
            "grid_template_areas": null,
            "grid_template_columns": null,
            "grid_template_rows": null,
            "height": null,
            "justify_content": null,
            "justify_items": null,
            "left": null,
            "margin": null,
            "max_height": null,
            "max_width": null,
            "min_height": null,
            "min_width": null,
            "object_fit": null,
            "object_position": null,
            "order": null,
            "overflow": null,
            "overflow_x": null,
            "overflow_y": null,
            "padding": null,
            "right": null,
            "top": null,
            "visibility": null,
            "width": null
          }
        },
        "6847731f9da043bd893568383029c9d1": {
          "model_module": "@jupyter-widgets/controls",
          "model_name": "DescriptionStyleModel",
          "model_module_version": "1.5.0",
          "state": {
            "_model_module": "@jupyter-widgets/controls",
            "_model_module_version": "1.5.0",
            "_model_name": "DescriptionStyleModel",
            "_view_count": null,
            "_view_module": "@jupyter-widgets/base",
            "_view_module_version": "1.2.0",
            "_view_name": "StyleView",
            "description_width": ""
          }
        },
        "29e8f56474be46a8b1686a12342d79a8": {
          "model_module": "@jupyter-widgets/base",
          "model_name": "LayoutModel",
          "model_module_version": "1.2.0",
          "state": {
            "_model_module": "@jupyter-widgets/base",
            "_model_module_version": "1.2.0",
            "_model_name": "LayoutModel",
            "_view_count": null,
            "_view_module": "@jupyter-widgets/base",
            "_view_module_version": "1.2.0",
            "_view_name": "LayoutView",
            "align_content": null,
            "align_items": null,
            "align_self": null,
            "border": null,
            "bottom": null,
            "display": null,
            "flex": null,
            "flex_flow": null,
            "grid_area": null,
            "grid_auto_columns": null,
            "grid_auto_flow": null,
            "grid_auto_rows": null,
            "grid_column": null,
            "grid_gap": null,
            "grid_row": null,
            "grid_template_areas": null,
            "grid_template_columns": null,
            "grid_template_rows": null,
            "height": null,
            "justify_content": null,
            "justify_items": null,
            "left": null,
            "margin": null,
            "max_height": null,
            "max_width": null,
            "min_height": null,
            "min_width": null,
            "object_fit": null,
            "object_position": null,
            "order": null,
            "overflow": null,
            "overflow_x": null,
            "overflow_y": null,
            "padding": null,
            "right": null,
            "top": null,
            "visibility": null,
            "width": null
          }
        },
        "538e4ff28b524004b653fe2522344898": {
          "model_module": "@jupyter-widgets/controls",
          "model_name": "DescriptionStyleModel",
          "model_module_version": "1.5.0",
          "state": {
            "_model_module": "@jupyter-widgets/controls",
            "_model_module_version": "1.5.0",
            "_model_name": "DescriptionStyleModel",
            "_view_count": null,
            "_view_module": "@jupyter-widgets/base",
            "_view_module_version": "1.2.0",
            "_view_name": "StyleView",
            "description_width": ""
          }
        },
        "c92bbe529f884cd3879de3a942cd418e": {
          "model_module": "@jupyter-widgets/output",
          "model_name": "OutputModel",
          "model_module_version": "1.0.0",
          "state": {
            "_dom_classes": [],
            "_model_module": "@jupyter-widgets/output",
            "_model_module_version": "1.0.0",
            "_model_name": "OutputModel",
            "_view_count": null,
            "_view_module": "@jupyter-widgets/output",
            "_view_module_version": "1.0.0",
            "_view_name": "OutputView",
            "layout": "IPY_MODEL_ee3e560dee6c455489115b01a1b41383",
            "msg_id": "",
            "outputs": [
              {
                "output_type": "stream",
                "name": "stdout",
                "text": [
                  "Hello, Waquar! Your favourite colour is Blue and you love Chicken.\n"
                ]
              }
            ]
          }
        },
        "ee3e560dee6c455489115b01a1b41383": {
          "model_module": "@jupyter-widgets/base",
          "model_name": "LayoutModel",
          "model_module_version": "1.2.0",
          "state": {
            "_model_module": "@jupyter-widgets/base",
            "_model_module_version": "1.2.0",
            "_model_name": "LayoutModel",
            "_view_count": null,
            "_view_module": "@jupyter-widgets/base",
            "_view_module_version": "1.2.0",
            "_view_name": "LayoutView",
            "align_content": null,
            "align_items": null,
            "align_self": null,
            "border": null,
            "bottom": null,
            "display": null,
            "flex": null,
            "flex_flow": null,
            "grid_area": null,
            "grid_auto_columns": null,
            "grid_auto_flow": null,
            "grid_auto_rows": null,
            "grid_column": null,
            "grid_gap": null,
            "grid_row": null,
            "grid_template_areas": null,
            "grid_template_columns": null,
            "grid_template_rows": null,
            "height": null,
            "justify_content": null,
            "justify_items": null,
            "left": null,
            "margin": null,
            "max_height": null,
            "max_width": null,
            "min_height": null,
            "min_width": null,
            "object_fit": null,
            "object_position": null,
            "order": null,
            "overflow": null,
            "overflow_x": null,
            "overflow_y": null,
            "padding": null,
            "right": null,
            "top": null,
            "visibility": null,
            "width": null
          }
        }
      }
    }
  },
  "nbformat": 4,
  "nbformat_minor": 0
}